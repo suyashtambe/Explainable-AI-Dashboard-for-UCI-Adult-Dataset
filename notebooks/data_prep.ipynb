{
 "cells": [
  {
   "cell_type": "code",
   "execution_count": 3,
   "id": "644e33b9",
   "metadata": {},
   "outputs": [
    {
     "name": "stdout",
     "output_type": "stream",
     "text": [
      " Dataset loaded: 32561 samples, 15 features\n",
      "Categorical columns: 8\n",
      "Numerical columns: 6\n",
      " Processed shapes → Train: (24129, 104), Test: (6033, 104)\n",
      "\n",
      " Data preprocessing complete — saved to data/adult_prepared.pkl\n"
     ]
    }
   ],
   "source": [
    "import pandas as pd\n",
    "import numpy as np\n",
    "import joblib\n",
    "import os\n",
    "from sklearn.model_selection import train_test_split\n",
    "from sklearn.preprocessing import StandardScaler, OneHotEncoder\n",
    "from sklearn.compose import ColumnTransformer\n",
    "from sklearn.pipeline import Pipeline\n",
    "\n",
    "# 1️. Load the UCI Adult dataset\n",
    "url = \"https://archive.ics.uci.edu/ml/machine-learning-databases/adult/adult.data\"\n",
    "columns = [\n",
    "    'age', 'workclass', 'fnlwgt', 'education', 'education-num',\n",
    "    'marital-status', 'occupation', 'relationship', 'race', 'sex',\n",
    "    'capital-gain', 'capital-loss', 'hours-per-week', 'native-country', 'income'\n",
    "]\n",
    "df = pd.read_csv(url, names=columns, sep=',', skipinitialspace=True)\n",
    "\n",
    "print(f\" Dataset loaded: {df.shape[0]} samples, {df.shape[1]} features\")\n",
    "\n",
    "# 2️. Handle missing values (represented by '?')\n",
    "df = df.replace('?', np.nan)\n",
    "df = df.dropna()\n",
    "\n",
    "# 3️. Define features and target\n",
    "X = df.drop('income', axis=1)\n",
    "y = df['income'].apply(lambda x: 1 if x.strip() == '>50K' else 0)\n",
    "\n",
    "# 4️. Define categorical and numerical columns manually (important fix)\n",
    "cat_cols = [\n",
    "    'workclass', 'education', 'marital-status', 'occupation',\n",
    "    'relationship', 'race', 'sex', 'native-country'\n",
    "]\n",
    "num_cols = [\n",
    "    'age', 'fnlwgt', 'education-num', 'capital-gain',\n",
    "    'capital-loss', 'hours-per-week'\n",
    "]\n",
    "\n",
    "print(f\"Categorical columns: {len(cat_cols)}\")\n",
    "print(f\"Numerical columns: {len(num_cols)}\")\n",
    "\n",
    "# 5️. Create preprocessing pipeline\n",
    "preprocessor = ColumnTransformer([\n",
    "    ('num', StandardScaler(), num_cols),\n",
    "    ('cat', OneHotEncoder(handle_unknown='ignore'), cat_cols)\n",
    "])\n",
    "\n",
    "# 6️. Train/test split\n",
    "X_train, X_test, y_train, y_test = train_test_split(\n",
    "    X, y, test_size=0.2, random_state=42, stratify=y\n",
    ")\n",
    "\n",
    "# 7️. Fit and transform\n",
    "X_train_processed = preprocessor.fit_transform(X_train)\n",
    "X_test_processed = preprocessor.transform(X_test)\n",
    "\n",
    "print(f\" Processed shapes → Train: {X_train_processed.shape}, Test: {X_test_processed.shape}\")\n",
    "\n",
    "# 8️. Save processed data and preprocessor\n",
    "os.makedirs('data', exist_ok=True)\n",
    "joblib.dump((X_train_processed, X_test_processed, y_train, y_test, preprocessor), 'data/adult_prepared.pkl')\n",
    "\n",
    "print(\"\\n Data preprocessing complete — saved to data/adult_prepared.pkl\")\n"
   ]
  }
 ],
 "metadata": {
  "kernelspec": {
   "display_name": "Python 3",
   "language": "python",
   "name": "python3"
  },
  "language_info": {
   "codemirror_mode": {
    "name": "ipython",
    "version": 3
   },
   "file_extension": ".py",
   "mimetype": "text/x-python",
   "name": "python",
   "nbconvert_exporter": "python",
   "pygments_lexer": "ipython3",
   "version": "3.12.2"
  }
 },
 "nbformat": 4,
 "nbformat_minor": 5
}
